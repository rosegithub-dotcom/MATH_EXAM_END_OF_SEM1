{
 "cells": [
  {
   "cell_type": "code",
   "execution_count": 1,
   "metadata": {},
   "outputs": [],
   "source": [
    "import numpy as np"
   ]
  },
  {
   "cell_type": "code",
   "execution_count": 5,
   "metadata": {},
   "outputs": [
    {
     "name": "stdout",
     "output_type": "stream",
     "text": [
      "Original Matrix:\n",
      "[[1.  0.2 0.5]\n",
      " [0.2 1.  0.8]\n",
      " [0.5 0.8 1. ]]\n",
      "\n",
      "Inverse of the Transpose:\n",
      "[[ 1.56521739  0.86956522 -1.47826087]\n",
      " [ 0.86956522  3.26086957 -3.04347826]\n",
      " [-1.47826087 -3.04347826  4.17391304]]\n"
     ]
    }
   ],
   "source": [
    "# Finding inverse of the matrix\n",
    "def inverse_of_transpose(matrix):\n",
    "    # Transpose of  the matrix\n",
    "    matrix_transpose = np.transpose(matrix)\n",
    "    \n",
    "    # Computing  the inverse of a matrix that is transposed .\n",
    "    inverse_transpose = np.linalg.inv(matrix_transpose)\n",
    "    \n",
    "    return inverse_transpose\n",
    "\n",
    "matrix = np.array([[1, 0.2, 0.5],\n",
    "                    [0.2, 1, 0.8],\n",
    "                    [0.5, 0.8, 1]])\n",
    "\n",
    "# Calling the function to compute the inverse of the transposed matrix\n",
    "result = inverse_of_transpose(matrix)\n",
    "\n",
    "print(\"Original Matrix:\")\n",
    "print(matrix)\n",
    "print(\"\\nInverse of the Transpose:\")\n",
    "print(result)\n",
    "\n"
   ]
  },
  {
   "cell_type": "code",
   "execution_count": 12,
   "metadata": {},
   "outputs": [
    {
     "name": "stdout",
     "output_type": "stream",
     "text": [
      "The Determinant of the matrix is: 0.2299999999999999\n"
     ]
    }
   ],
   "source": [
    "#Determinant of the matrix\n",
    "import numpy as np\n",
    "def determinant(matrix):\n",
    "    return np.linalg.det(matrix)\n",
    "matrix = np.array([[1, 0.2, 0.5],\n",
    "                [0.2, 1, 0.8],\n",
    "                [0.5, 0.8, 1]])\n",
    "determinant_value = determinant(matrix)\n",
    "print(f\"The Determinant of the matrix is: {det_value}\")"
   ]
  },
  {
   "cell_type": "code",
   "execution_count": 10,
   "metadata": {},
   "outputs": [],
   "source": [
    "import numpy as np"
   ]
  },
  {
   "cell_type": "code",
   "execution_count": 31,
   "metadata": {},
   "outputs": [
    {
     "ename": "NameError",
     "evalue": "name 'lu_decomposition' is not defined",
     "output_type": "error",
     "traceback": [
      "\u001b[1;31m---------------------------------------------------------------------------\u001b[0m",
      "\u001b[1;31mNameError\u001b[0m                                 Traceback (most recent call last)",
      "\u001b[1;32mc:\\Users\\student\\Desktop\\WITI C3\\Year One\\Semister one\\Introduction to mathematical  Computing\\EXAMINATION\\Question_four.ipynb Cell 5\u001b[0m line \u001b[0;36m8\n\u001b[0;32m      <a href='vscode-notebook-cell:/c%3A/Users/student/Desktop/WITI%20C3/Year%20One/Semister%20one/Introduction%20to%20mathematical%20%20Computing/EXAMINATION/Question_four.ipynb#X12sZmlsZQ%3D%3D?line=0'>1</a>\u001b[0m \u001b[39m#decomposition of a matrix\u001b[39;00m\n\u001b[0;32m      <a href='vscode-notebook-cell:/c%3A/Users/student/Desktop/WITI%20C3/Year%20One/Semister%20one/Introduction%20to%20mathematical%20%20Computing/EXAMINATION/Question_four.ipynb#X12sZmlsZQ%3D%3D?line=2'>3</a>\u001b[0m matrix \u001b[39m=\u001b[39m np\u001b[39m.\u001b[39marray([\n\u001b[0;32m      <a href='vscode-notebook-cell:/c%3A/Users/student/Desktop/WITI%20C3/Year%20One/Semister%20one/Introduction%20to%20mathematical%20%20Computing/EXAMINATION/Question_four.ipynb#X12sZmlsZQ%3D%3D?line=3'>4</a>\u001b[0m     [\u001b[39m1\u001b[39m, \u001b[39m0.2\u001b[39m, \u001b[39m0.5\u001b[39m],\n\u001b[0;32m      <a href='vscode-notebook-cell:/c%3A/Users/student/Desktop/WITI%20C3/Year%20One/Semister%20one/Introduction%20to%20mathematical%20%20Computing/EXAMINATION/Question_four.ipynb#X12sZmlsZQ%3D%3D?line=4'>5</a>\u001b[0m     [\u001b[39m0.2\u001b[39m, \u001b[39m1\u001b[39m, \u001b[39m0.8\u001b[39m],\n\u001b[0;32m      <a href='vscode-notebook-cell:/c%3A/Users/student/Desktop/WITI%20C3/Year%20One/Semister%20one/Introduction%20to%20mathematical%20%20Computing/EXAMINATION/Question_four.ipynb#X12sZmlsZQ%3D%3D?line=5'>6</a>\u001b[0m     [\u001b[39m0.5\u001b[39m,\u001b[39m0.8\u001b[39m,\u001b[39m1\u001b[39m]\n\u001b[0;32m      <a href='vscode-notebook-cell:/c%3A/Users/student/Desktop/WITI%20C3/Year%20One/Semister%20one/Introduction%20to%20mathematical%20%20Computing/EXAMINATION/Question_four.ipynb#X12sZmlsZQ%3D%3D?line=6'>7</a>\u001b[0m ])\n\u001b[1;32m----> <a href='vscode-notebook-cell:/c%3A/Users/student/Desktop/WITI%20C3/Year%20One/Semister%20one/Introduction%20to%20mathematical%20%20Computing/EXAMINATION/Question_four.ipynb#X12sZmlsZQ%3D%3D?line=7'>8</a>\u001b[0m L,U \u001b[39m=\u001b[39m lu_decomposition(matrix)\n\u001b[0;32m      <a href='vscode-notebook-cell:/c%3A/Users/student/Desktop/WITI%20C3/Year%20One/Semister%20one/Introduction%20to%20mathematical%20%20Computing/EXAMINATION/Question_four.ipynb#X12sZmlsZQ%3D%3D?line=8'>9</a>\u001b[0m \u001b[39mprint\u001b[39m(\u001b[39m\"\u001b[39m\u001b[39mOriginal Matrix:\u001b[39m\u001b[39m\"\u001b[39m)\n\u001b[0;32m     <a href='vscode-notebook-cell:/c%3A/Users/student/Desktop/WITI%20C3/Year%20One/Semister%20one/Introduction%20to%20mathematical%20%20Computing/EXAMINATION/Question_four.ipynb#X12sZmlsZQ%3D%3D?line=9'>10</a>\u001b[0m \u001b[39mprint\u001b[39m(matrix)\n",
      "\u001b[1;31mNameError\u001b[0m: name 'lu_decomposition' is not defined"
     ]
    }
   ],
   "source": [
    "#decomposition of a matrix\n",
    "\n",
    "matrix = np.array([\n",
    "    [1, 0.2, 0.5],\n",
    "    [0.2, 1, 0.8],\n",
    "    [0.5,0.8,1]\n",
    "])\n",
    "L,U = lu_decomposition(matrix)\n",
    "print(\"Original Matrix:\")\n",
    "print(matrix)\n",
    "print(\"\\nLower Triangular Matrix (L):\")\n",
    "print(L)\n",
    "print(\"\\nUpper Triangular Matrix (U):\")\n",
    "print(U)\n",
    "\n",
    "# Verify that A = L * U\n",
    "print(\"\\nVerification: L * U =\")\n",
    "print(np.dot(L, U))\n"
   ]
  },
  {
   "cell_type": "code",
   "execution_count": 32,
   "metadata": {},
   "outputs": [],
   "source": [
    "#d \n",
    "#matrix transpose\n",
    "import numpy as np"
   ]
  },
  {
   "cell_type": "code",
   "execution_count": 35,
   "metadata": {},
   "outputs": [
    {
     "ename": "NameError",
     "evalue": "name 'transpose' is not defined",
     "output_type": "error",
     "traceback": [
      "\u001b[1;31m---------------------------------------------------------------------------\u001b[0m",
      "\u001b[1;31mNameError\u001b[0m                                 Traceback (most recent call last)",
      "\u001b[1;32mc:\\Users\\student\\Desktop\\WITI C3\\Year One\\Semister one\\Introduction to mathematical  Computing\\EXAMINATION\\Question_four.ipynb Cell 7\u001b[0m line \u001b[0;36m6\n\u001b[0;32m      <a href='vscode-notebook-cell:/c%3A/Users/student/Desktop/WITI%20C3/Year%20One/Semister%20one/Introduction%20to%20mathematical%20%20Computing/EXAMINATION/Question_four.ipynb#X15sZmlsZQ%3D%3D?line=1'>2</a>\u001b[0m     \u001b[39mreturn\u001b[39;00m np\u001b[39m.\u001b[39mdot(matrix)\n\u001b[0;32m      <a href='vscode-notebook-cell:/c%3A/Users/student/Desktop/WITI%20C3/Year%20One/Semister%20one/Introduction%20to%20mathematical%20%20Computing/EXAMINATION/Question_four.ipynb#X15sZmlsZQ%3D%3D?line=2'>3</a>\u001b[0m matrix \u001b[39m=\u001b[39m np\u001b[39m.\u001b[39marray([[\u001b[39m1\u001b[39m, \u001b[39m0.2\u001b[39m, \u001b[39m0.5\u001b[39m],\n\u001b[0;32m      <a href='vscode-notebook-cell:/c%3A/Users/student/Desktop/WITI%20C3/Year%20One/Semister%20one/Introduction%20to%20mathematical%20%20Computing/EXAMINATION/Question_four.ipynb#X15sZmlsZQ%3D%3D?line=3'>4</a>\u001b[0m                 [\u001b[39m0.2\u001b[39m, \u001b[39m1\u001b[39m, \u001b[39m0.8\u001b[39m],\n\u001b[0;32m      <a href='vscode-notebook-cell:/c%3A/Users/student/Desktop/WITI%20C3/Year%20One/Semister%20one/Introduction%20to%20mathematical%20%20Computing/EXAMINATION/Question_four.ipynb#X15sZmlsZQ%3D%3D?line=4'>5</a>\u001b[0m                 [\u001b[39m0.5\u001b[39m, \u001b[39m0.8\u001b[39m, \u001b[39m1\u001b[39m]])\n\u001b[1;32m----> <a href='vscode-notebook-cell:/c%3A/Users/student/Desktop/WITI%20C3/Year%20One/Semister%20one/Introduction%20to%20mathematical%20%20Computing/EXAMINATION/Question_four.ipynb#X15sZmlsZQ%3D%3D?line=5'>6</a>\u001b[0m transpose_matrix \u001b[39m=\u001b[39m transpose(matrix)\n\u001b[0;32m      <a href='vscode-notebook-cell:/c%3A/Users/student/Desktop/WITI%20C3/Year%20One/Semister%20one/Introduction%20to%20mathematical%20%20Computing/EXAMINATION/Question_four.ipynb#X15sZmlsZQ%3D%3D?line=6'>7</a>\u001b[0m \u001b[39mprint\u001b[39m(\u001b[39mf\u001b[39m\u001b[39m\"\u001b[39m\u001b[39mThe transpose of the matrix is: \u001b[39m\u001b[39m{\u001b[39;00mtranspose_matrix\u001b[39m}\u001b[39;00m\u001b[39m\"\u001b[39m)\n",
      "\u001b[1;31mNameError\u001b[0m: name 'transpose' is not defined"
     ]
    }
   ],
   "source": [
    "def transformatio(matrix):\n",
    "    return np.dot(matrix)\n",
    "matrix = np.array([[1, 0.2, 0.5],\n",
    "                [0.2, 1, 0.8],\n",
    "                [0.5, 0.8, 1]])\n",
    "transpose_matrix = transpose(matrix)\n",
    "print(f\"The transpose of the matrix is: {transpose_matrix}\")"
   ]
  }
 ],
 "metadata": {
  "kernelspec": {
   "display_name": "Python 3",
   "language": "python",
   "name": "python3"
  },
  "language_info": {
   "codemirror_mode": {
    "name": "ipython",
    "version": 3
   },
   "file_extension": ".py",
   "mimetype": "text/x-python",
   "name": "python",
   "nbconvert_exporter": "python",
   "pygments_lexer": "ipython3",
   "version": "3.11.4"
  }
 },
 "nbformat": 4,
 "nbformat_minor": 2
}
